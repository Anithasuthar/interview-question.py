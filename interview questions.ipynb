{
 "cells": [
  {
   "cell_type": "code",
   "execution_count": null,
   "id": "1bf3baa8",
   "metadata": {},
   "outputs": [],
   "source": [
    "# 20 interview questions for Data Types, Operators, Conditional Statements, Looping Statements, Functions.\n",
    "\n",
    "\n",
    "# 1.Python is an interpreted language. Explain.\n",
    "# 2.What is the difference between lists and tuples?\n",
    "# 3.How is Memory managed in Python?\n",
    "# 4.What are Python Modules?\n",
    "# 5.What are python namespaces?\n",
    "# 6.Explain Inheritance in Python with an example?\n",
    "# 7.What is a dictionary in Python?\n",
    "# 8.What are functions in Python?\n",
    "# 9.What is __init__ in Python?\n",
    "# 10.What is __init__ in Python?\n",
    "# 11.What are local variables and global variables in Python?\n",
    "# 12. What is type conversion in Python?\n",
    "# 13.What is the difference between Python Arrays and lists?\n",
    "# 14.What does [::-1] do?\n",
    "# 15.How does break, continue, and pass work?\n",
    "# 16.What are negative indexes and why are they used?\n",
    "# 17.What are Dict and List comprehensions?\n",
    "# 18.What does len() do?\n",
    "# 19.How will you remove duplicate elements from a list?\n",
    "# 20.What is the purpose of is, not and in operators?\n",
    "\n"
   ]
  }
 ],
 "metadata": {
  "kernelspec": {
   "display_name": "Python 3 (ipykernel)",
   "language": "python",
   "name": "python3"
  },
  "language_info": {
   "codemirror_mode": {
    "name": "ipython",
    "version": 3
   },
   "file_extension": ".py",
   "mimetype": "text/x-python",
   "name": "python",
   "nbconvert_exporter": "python",
   "pygments_lexer": "ipython3",
   "version": "3.9.12"
  }
 },
 "nbformat": 4,
 "nbformat_minor": 5
}
